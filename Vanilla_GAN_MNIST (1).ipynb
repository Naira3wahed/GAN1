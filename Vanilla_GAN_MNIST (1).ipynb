{
  "nbformat": 4,
  "nbformat_minor": 0,
  "metadata": {
    "colab": {
      "provenance": []
    },
    "kernelspec": {
      "name": "python3",
      "display_name": "Python 3"
    },
    "language_info": {
      "name": "python"
    }
  },
  "cells": [
    {
      "cell_type": "code",
      "execution_count": 2,
      "metadata": {
        "colab": {
          "base_uri": "https://localhost:8080/"
        },
        "id": "HXyv6ZU53hP5",
        "outputId": "f782e19d-69ef-42a7-a4e3-9a22175a4567"
      },
      "outputs": [
        {
          "output_type": "stream",
          "name": "stdout",
          "text": [
            "2.5.1+cu121\n"
          ]
        }
      ],
      "source": [
        "import torch\n",
        "print(torch.__version__)"
      ]
    },
    {
      "cell_type": "code",
      "source": [
        "import torch\n",
        "import torch.nn as nn\n",
        "import torch.optim as optim\n",
        "from torchvision import datasets, transforms\n",
        "from torch.utils.data import DataLoader\n",
        "\n",
        "\n",
        "device = torch.device(\"cuda\" if torch.cuda.is_available() else \"cpu\")\n",
        "print(f\"Using device: {device}\")\n",
        "\n",
        "\n",
        "transform = transforms.Compose([\n",
        "    transforms.ToTensor(),\n",
        "    transforms.Normalize((0.5,), (0.5,))  ])\n",
        "\n",
        "mnist_data = datasets.MNIST(root='./data', train=True, download=True, transform=transform)\n",
        "data_loader = DataLoader(mnist_data, batch_size=128, shuffle=True)\n",
        "\n",
        "\n",
        "# Generator\n",
        "class Generator(nn.Module):\n",
        "    def __init__(self, input_dim, output_dim):\n",
        "        super(Generator, self).__init__()\n",
        "        self.model = nn.Sequential(\n",
        "            nn.Linear(input_dim, 256),\n",
        "            nn.ReLU(),\n",
        "            nn.Linear(256, 512),\n",
        "            nn.ReLU(),\n",
        "            nn.Linear(512, output_dim),\n",
        "            nn.Tanh()\n",
        "        )\n",
        "\n",
        "    def forward(self, x):\n",
        "        return self.model(x)\n",
        "\n",
        "# Discriminator\n",
        "class Discriminator(nn.Module):\n",
        "    def __init__(self, input_dim):\n",
        "        super(Discriminator, self).__init__()\n",
        "        self.model = nn.Sequential(\n",
        "            nn.Linear(input_dim, 512),\n",
        "            nn.LeakyReLU(0.2),\n",
        "            nn.Linear(512, 256),\n",
        "            nn.LeakyReLU(0.2),\n",
        "            nn.Linear(256, 1),\n",
        "            nn.Sigmoid()\n",
        "        )\n",
        "\n",
        "    def forward(self, x):\n",
        "        return self.model(x)\n",
        "\n",
        "\n",
        "latent_dim = 100\n",
        "img_dim = 28 * 28\n",
        "\n",
        "generator = Generator(input_dim=latent_dim, output_dim=img_dim).to(device)\n",
        "discriminator = Discriminator(input_dim=img_dim).to(device)\n",
        "\n",
        "\n",
        "criterion = nn.BCELoss()  # Binary Cross-Entropy Loss\n",
        "optimizer_G = optim.Adam(generator.parameters(), lr=0.0002)\n",
        "optimizer_D = optim.Adam(discriminator.parameters(), lr=0.0002)\n",
        "\n",
        "epochs = 50\n",
        "\n",
        "for epoch in range(epochs):\n",
        "    for batch_idx, (real_imgs, _) in enumerate(data_loader):\n",
        "        batch_size = real_imgs.size(0)\n",
        "\n",
        "        real_imgs = real_imgs.view(batch_size, -1).to(device)\n",
        "\n",
        "        noise = torch.randn(batch_size, latent_dim).to(device)\n",
        "        fake_imgs = generator(noise)\n",
        "\n",
        "        real_labels = torch.ones(batch_size, 1).to(device)\n",
        "        fake_labels = torch.zeros(batch_size, 1).to(device)\n",
        "\n",
        "\n",
        "        real_loss = criterion(discriminator(real_imgs), real_labels)\n",
        "        fake_loss = criterion(discriminator(fake_imgs.detach()), fake_labels)\n",
        "        d_loss = real_loss + fake_loss\n",
        "\n",
        "        optimizer_D.zero_grad()\n",
        "        d_loss.backward()\n",
        "        optimizer_D.step()\n",
        "\n",
        "        noise = torch.randn(batch_size, latent_dim).to(device)\n",
        "        fake_imgs = generator(noise)\n",
        "        g_loss = criterion(discriminator(fake_imgs), real_labels)\n",
        "\n",
        "        optimizer_G.zero_grad()\n",
        "        g_loss.backward()\n",
        "        optimizer_G.step()\n",
        "\n",
        "    print(f\"Epoch [{epoch+1}/{epochs}] | D Loss: {d_loss.item():.4f} | G Loss: {g_loss.item():.4f}\")\n",
        "\n",
        "import matplotlib.pyplot as plt\n",
        "import numpy as np\n",
        "\n",
        "def save_fake_images(generator, latent_dim, n_images=16):\n",
        "    noise = torch.randn(n_images, latent_dim).to(device)\n",
        "    fake_images = generator(noise).detach().cpu().numpy()\n",
        "    fake_images = 0.5 * (fake_images + 1)  # إعادة القيم إلى [0, 1]\n",
        "    fake_images = fake_images.reshape(-1, 28, 28)\n",
        "\n",
        "    plt.figure(figsize=(8, 8))\n",
        "    for i in range(n_images):\n",
        "        plt.subplot(4, 4, i + 1)\n",
        "        plt.imshow(fake_images[i], cmap='gray')\n",
        "        plt.axis('off')\n",
        "    plt.show()\n",
        "\n",
        "save_fake_images(generator, latent_dim)\n"
      ],
      "metadata": {
        "colab": {
          "base_uri": "https://localhost:8080/",
          "height": 1000
        },
        "id": "n3GOX5dk4duX",
        "outputId": "e11b3019-a191-4fa8-f3e8-7e73a6c24f3b"
      },
      "execution_count": 3,
      "outputs": [
        {
          "metadata": {
            "tags": null
          },
          "name": "stdout",
          "output_type": "stream",
          "text": [
            "Using device: cpu\n",
            "Downloading http://yann.lecun.com/exdb/mnist/train-images-idx3-ubyte.gz\n",
            "Failed to download (trying next):\n",
            "HTTP Error 403: Forbidden\n",
            "\n",
            "Downloading https://ossci-datasets.s3.amazonaws.com/mnist/train-images-idx3-ubyte.gz\n",
            "Downloading https://ossci-datasets.s3.amazonaws.com/mnist/train-images-idx3-ubyte.gz to ./data/MNIST/raw/train-images-idx3-ubyte.gz\n"
          ]
        },
        {
          "metadata": {
            "tags": null
          },
          "name": "stderr",
          "output_type": "stream",
          "text": [
            "100%|██████████| 9.91M/9.91M [00:00<00:00, 51.2MB/s]\n"
          ]
        },
        {
          "metadata": {
            "tags": null
          },
          "name": "stdout",
          "output_type": "stream",
          "text": [
            "Extracting ./data/MNIST/raw/train-images-idx3-ubyte.gz to ./data/MNIST/raw\n",
            "\n",
            "Downloading http://yann.lecun.com/exdb/mnist/train-labels-idx1-ubyte.gz\n",
            "Failed to download (trying next):\n",
            "HTTP Error 403: Forbidden\n",
            "\n",
            "Downloading https://ossci-datasets.s3.amazonaws.com/mnist/train-labels-idx1-ubyte.gz\n",
            "Downloading https://ossci-datasets.s3.amazonaws.com/mnist/train-labels-idx1-ubyte.gz to ./data/MNIST/raw/train-labels-idx1-ubyte.gz\n"
          ]
        },
        {
          "metadata": {
            "tags": null
          },
          "name": "stderr",
          "output_type": "stream",
          "text": [
            "100%|██████████| 28.9k/28.9k [00:00<00:00, 2.07MB/s]"
          ]
        },
        {
          "metadata": {
            "tags": null
          },
          "name": "stdout",
          "output_type": "stream",
          "text": [
            "Extracting ./data/MNIST/raw/train-labels-idx1-ubyte.gz to ./data/MNIST/raw\n",
            "\n",
            "Downloading http://yann.lecun.com/exdb/mnist/t10k-images-idx3-ubyte.gz\n"
          ]
        },
        {
          "metadata": {
            "tags": null
          },
          "name": "stderr",
          "output_type": "stream",
          "text": [
            "\n"
          ]
        },
        {
          "metadata": {
            "tags": null
          },
          "name": "stdout",
          "output_type": "stream",
          "text": [
            "Failed to download (trying next):\n",
            "HTTP Error 403: Forbidden\n",
            "\n",
            "Downloading https://ossci-datasets.s3.amazonaws.com/mnist/t10k-images-idx3-ubyte.gz\n",
            "Downloading https://ossci-datasets.s3.amazonaws.com/mnist/t10k-images-idx3-ubyte.gz to ./data/MNIST/raw/t10k-images-idx3-ubyte.gz\n"
          ]
        },
        {
          "metadata": {
            "tags": null
          },
          "name": "stderr",
          "output_type": "stream",
          "text": [
            "100%|██████████| 1.65M/1.65M [00:00<00:00, 14.0MB/s]\n"
          ]
        },
        {
          "metadata": {
            "tags": null
          },
          "name": "stdout",
          "output_type": "stream",
          "text": [
            "Extracting ./data/MNIST/raw/t10k-images-idx3-ubyte.gz to ./data/MNIST/raw\n",
            "\n",
            "Downloading http://yann.lecun.com/exdb/mnist/t10k-labels-idx1-ubyte.gz\n",
            "Failed to download (trying next):\n",
            "HTTP Error 403: Forbidden\n",
            "\n",
            "Downloading https://ossci-datasets.s3.amazonaws.com/mnist/t10k-labels-idx1-ubyte.gz\n",
            "Downloading https://ossci-datasets.s3.amazonaws.com/mnist/t10k-labels-idx1-ubyte.gz to ./data/MNIST/raw/t10k-labels-idx1-ubyte.gz\n"
          ]
        },
        {
          "metadata": {
            "tags": null
          },
          "name": "stderr",
          "output_type": "stream",
          "text": [
            "100%|██████████| 4.54k/4.54k [00:00<00:00, 3.92MB/s]"
          ]
        },
        {
          "metadata": {
            "tags": null
          },
          "name": "stdout",
          "output_type": "stream",
          "text": [
            "Extracting ./data/MNIST/raw/t10k-labels-idx1-ubyte.gz to ./data/MNIST/raw\n",
            "\n"
          ]
        },
        {
          "metadata": {
            "tags": null
          },
          "name": "stderr",
          "output_type": "stream",
          "text": [
            "\n"
          ]
        },
        {
          "output_type": "stream",
          "name": "stdout",
          "text": [
            "Epoch [1/50] | D Loss: 0.0424 | G Loss: 5.6268\n",
            "Epoch [2/50] | D Loss: 0.0654 | G Loss: 6.5409\n",
            "Epoch [3/50] | D Loss: 0.0813 | G Loss: 4.6273\n",
            "Epoch [4/50] | D Loss: 0.1161 | G Loss: 3.8165\n",
            "Epoch [5/50] | D Loss: 0.2434 | G Loss: 4.1413\n",
            "Epoch [6/50] | D Loss: 0.1249 | G Loss: 4.0033\n",
            "Epoch [7/50] | D Loss: 0.1018 | G Loss: 4.5923\n",
            "Epoch [8/50] | D Loss: 0.0421 | G Loss: 8.8992\n",
            "Epoch [9/50] | D Loss: 0.0408 | G Loss: 6.3480\n",
            "Epoch [10/50] | D Loss: 0.1015 | G Loss: 9.0524\n",
            "Epoch [11/50] | D Loss: 0.0622 | G Loss: 6.1829\n",
            "Epoch [12/50] | D Loss: 0.1470 | G Loss: 4.5599\n",
            "Epoch [13/50] | D Loss: 0.1137 | G Loss: 8.5193\n",
            "Epoch [14/50] | D Loss: 0.3327 | G Loss: 2.4254\n",
            "Epoch [15/50] | D Loss: 0.4087 | G Loss: 3.8173\n",
            "Epoch [16/50] | D Loss: 0.2608 | G Loss: 5.1667\n",
            "Epoch [17/50] | D Loss: 0.2551 | G Loss: 4.1842\n",
            "Epoch [18/50] | D Loss: 0.0831 | G Loss: 4.8405\n",
            "Epoch [19/50] | D Loss: 0.1448 | G Loss: 5.6081\n",
            "Epoch [20/50] | D Loss: 0.3390 | G Loss: 4.3063\n",
            "Epoch [21/50] | D Loss: 0.2561 | G Loss: 4.1593\n",
            "Epoch [22/50] | D Loss: 0.2713 | G Loss: 5.9622\n",
            "Epoch [23/50] | D Loss: 0.1379 | G Loss: 4.8099\n",
            "Epoch [24/50] | D Loss: 0.0874 | G Loss: 6.6359\n",
            "Epoch [25/50] | D Loss: 0.2506 | G Loss: 4.0017\n",
            "Epoch [26/50] | D Loss: 0.2400 | G Loss: 3.8973\n",
            "Epoch [27/50] | D Loss: 0.3497 | G Loss: 5.2944\n",
            "Epoch [28/50] | D Loss: 0.1799 | G Loss: 4.5321\n",
            "Epoch [29/50] | D Loss: 0.3341 | G Loss: 5.0701\n",
            "Epoch [30/50] | D Loss: 0.2613 | G Loss: 3.5912\n",
            "Epoch [31/50] | D Loss: 0.3062 | G Loss: 5.1555\n",
            "Epoch [32/50] | D Loss: 0.3708 | G Loss: 3.3614\n",
            "Epoch [33/50] | D Loss: 0.2672 | G Loss: 3.0200\n",
            "Epoch [34/50] | D Loss: 0.2747 | G Loss: 3.9648\n",
            "Epoch [35/50] | D Loss: 0.2111 | G Loss: 3.4686\n",
            "Epoch [36/50] | D Loss: 0.4154 | G Loss: 3.4901\n",
            "Epoch [37/50] | D Loss: 0.2814 | G Loss: 5.1479\n",
            "Epoch [38/50] | D Loss: 0.3932 | G Loss: 2.4909\n",
            "Epoch [39/50] | D Loss: 0.4409 | G Loss: 2.5582\n",
            "Epoch [40/50] | D Loss: 0.3746 | G Loss: 3.3499\n",
            "Epoch [41/50] | D Loss: 0.3438 | G Loss: 3.3519\n",
            "Epoch [42/50] | D Loss: 0.5419 | G Loss: 3.6573\n",
            "Epoch [43/50] | D Loss: 0.3704 | G Loss: 2.8003\n",
            "Epoch [44/50] | D Loss: 0.2888 | G Loss: 3.6055\n",
            "Epoch [45/50] | D Loss: 0.3902 | G Loss: 5.0320\n",
            "Epoch [46/50] | D Loss: 0.5651 | G Loss: 2.7090\n",
            "Epoch [47/50] | D Loss: 0.3523 | G Loss: 3.4609\n",
            "Epoch [48/50] | D Loss: 0.6776 | G Loss: 2.7643\n",
            "Epoch [49/50] | D Loss: 0.3645 | G Loss: 3.3894\n",
            "Epoch [50/50] | D Loss: 0.5948 | G Loss: 2.5410\n"
          ]
        },
        {
          "output_type": "display_data",
          "data": {
            "text/plain": [
              "<Figure size 800x800 with 16 Axes>"
            ],
            "image/png": "[encoded data removed]"
          },
          "metadata": {}
        }
      ]
    }
  ]
}